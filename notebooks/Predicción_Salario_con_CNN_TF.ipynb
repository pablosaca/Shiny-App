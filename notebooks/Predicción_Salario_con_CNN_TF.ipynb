{
 "cells": [
  {
   "cell_type": "markdown",
   "metadata": {
    "id": "qnKDw0T9hP3B"
   },
   "source": [
    "# Problema de clasificación con TensorFlow/Keras - Red Convolucional\n",
    "\n",
    "## Autores: Mauricio Beltrán, Pablo Sánchez, Alfonoso Carabantes y Juan Antonio Grande"
   ]
  },
  {
   "cell_type": "markdown",
   "metadata": {},
   "source": [
    "Se plantea determinar si una persona gana más de 50,000 dólares al año a partir de las siguientes variables:\n",
    "\n",
    "- age: Variable continua que representa la edad del individuo.\n",
    "- workclass: Variable categórica que representa el tipo de clase laboral a la que pertenece el individuo. Los posibles valores incluyen Privado, Trabajador autónomo (no incorporado), Trabajador autónomo (incorporado), Gobierno federal, Gobierno local, Gobierno estatal, Sin paga, Nunca trabajó.\n",
    "- fnlwgt: Variable continua que representa el peso final de la población, utilizado en el muestreo.\n",
    "- education: Variable categórica que representa el nivel más alto de educación alcanzado por el individuo. Los posibles valores incluyen varios niveles de educación desde Preescolar hasta Doctorado.\n",
    "- education-num: Variable continua que representa la codificación numérica de la educación (una representación alternativa de la característica 'education').\n",
    "- marital-status: Variable categórica que representa el estado civil del individuo. Los posibles valores incluyen Casado (cónyuge civil), Divorciado, Soltero, Separado, Viudo, Casado (cónyuge ausente), Casado con Fuerzas Armadas.\n",
    "- occupation: Variable categórica que representa la ocupación del individuo. Los posibles valores incluyen diversas categorías laborales como Soporte técnico, Ventas, Ejecutivo/Gerencial, Agricultura/Pesca, etc.\n",
    "- relationship: Variable categórica que representa la relación del individuo con el hogar. Los posibles valores incluyen Esposa, Hijo propio, Esposo, No pertenece a la familia, Pariente, Soltero.\n",
    "- race: Variable categórica que representa la raza del individuo. Los posibles valores incluyen Blanco, Asiático-isleño del Pacífico, Indígena americano-Eskimal, Negro, Otro.\n",
    "- sex: Variable categórica que representa el género del individuo. Los posibles valores son Mujer y Hombre.\n",
    "- capital-gain: Variable continua que representa las ganancias de capital del individuo.\n",
    "- capital-loss: Variable continua que representa las pérdidas de capital del individuo.\n",
    "- hours-per-week: Variable continua que representa el número de horas trabajadas por semana por el individuo.\n",
    "- native-country: Variable categórica que representa el país de origen del individuo. Los posibles valores incluyen varios países como Estados Unidos, India, Japón, México, etc.\n",
    "\n",
    "Se puede descargar los datos en: https://archive.ics.uci.edu/dataset/2/adult"
   ]
  },
  {
   "cell_type": "markdown",
   "metadata": {
    "id": "r4KJtGAeiToA"
   },
   "source": [
    "## Importar datos y librerías de trabajo"
   ]
  },
  {
   "cell_type": "code",
   "execution_count": 102,
   "metadata": {
    "id": "Zl9mU6ChiZrq"
   },
   "outputs": [],
   "source": [
    "import os\n",
    "import pandas as pd\n",
    "import numpy as np\n",
    "import matplotlib.pyplot as plt\n",
    "import seaborn as sns\n",
    "import tensorflow as tf\n",
    "from tensorflow import keras\n",
    "from tensorflow.keras import Sequential\n",
    "from tensorflow.keras.layers import Conv1D, MaxPooling1D, Flatten, Dense, Dropout, BatchNormalization\n",
    "from tensorflow.keras.optimizers import Adam\n",
    "from sklearn.preprocessing import MinMaxScaler\n",
    "from sklearn.model_selection import train_test_split\n",
    "from sklearn.metrics import (\n",
    "    precision_score,\n",
    "    recall_score,\n",
    "    f1_score,\n",
    "    confusion_matrix\n",
    ")\n",
    "from numpy.random import seed\n",
    "seed(123)\n",
    "\n",
    "from tensorflow import random\n",
    "random.set_seed(2)"
   ]
  },
  {
   "cell_type": "markdown",
   "metadata": {},
   "source": [
    "Se leen los datos. Y un pequeño resumen de las variables numéricas:"
   ]
  },
  {
   "cell_type": "code",
   "execution_count": 103,
   "metadata": {
    "colab": {
     "base_uri": "https://localhost:8080/",
     "height": 321
    },
    "id": "yvzCwsXyichq",
    "outputId": "c26a2793-ab86-4508-c864-85c6d70997eb"
   },
   "outputs": [
    {
     "name": "stdout",
     "output_type": "stream",
     "text": [
      "<class 'pandas.core.frame.DataFrame'>\n",
      "RangeIndex: 48842 entries, 0 to 48841\n",
      "Data columns (total 13 columns):\n",
      " #   Column          Non-Null Count  Dtype \n",
      "---  ------          --------------  ----- \n",
      " 0   age             48842 non-null  int64 \n",
      " 1   workclass       48842 non-null  object\n",
      " 2   education       48842 non-null  object\n",
      " 3   marital-status  48842 non-null  object\n",
      " 4   occupation      48842 non-null  object\n",
      " 5   relationship    48842 non-null  object\n",
      " 6   race            48842 non-null  object\n",
      " 7   gender          48842 non-null  object\n",
      " 8   capital-gain    48842 non-null  int64 \n",
      " 9   capital-loss    48842 non-null  int64 \n",
      " 10  hours-per-week  48842 non-null  int64 \n",
      " 11  native-country  48842 non-null  object\n",
      " 12  income          48842 non-null  object\n",
      "dtypes: int64(4), object(9)\n",
      "memory usage: 4.8+ MB\n"
     ]
    }
   ],
   "source": [
    "datos=pd.read_csv('../data/adult_data.csv').drop(columns=[\"x\"])\n",
    "\n",
    "datos = datos.drop(columns=[\"fnlwgt\", \"educational-num\"])\n",
    "\n",
    "datos.info()"
   ]
  },
  {
   "cell_type": "code",
   "execution_count": 104,
   "metadata": {},
   "outputs": [
    {
     "name": "stdout",
     "output_type": "stream",
     "text": [
      "Tamaño: (48842, 13)\n"
     ]
    },
    {
     "data": {
      "text/html": [
       "<div>\n",
       "<style scoped>\n",
       "    .dataframe tbody tr th:only-of-type {\n",
       "        vertical-align: middle;\n",
       "    }\n",
       "\n",
       "    .dataframe tbody tr th {\n",
       "        vertical-align: top;\n",
       "    }\n",
       "\n",
       "    .dataframe thead th {\n",
       "        text-align: right;\n",
       "    }\n",
       "</style>\n",
       "<table border=\"1\" class=\"dataframe\">\n",
       "  <thead>\n",
       "    <tr style=\"text-align: right;\">\n",
       "      <th></th>\n",
       "      <th>age</th>\n",
       "      <th>capital-gain</th>\n",
       "      <th>capital-loss</th>\n",
       "      <th>hours-per-week</th>\n",
       "    </tr>\n",
       "  </thead>\n",
       "  <tbody>\n",
       "    <tr>\n",
       "      <th>count</th>\n",
       "      <td>48842.000000</td>\n",
       "      <td>48842.000000</td>\n",
       "      <td>48842.000000</td>\n",
       "      <td>48842.000000</td>\n",
       "    </tr>\n",
       "    <tr>\n",
       "      <th>mean</th>\n",
       "      <td>38.643585</td>\n",
       "      <td>1079.067626</td>\n",
       "      <td>87.502314</td>\n",
       "      <td>40.422382</td>\n",
       "    </tr>\n",
       "    <tr>\n",
       "      <th>std</th>\n",
       "      <td>13.710510</td>\n",
       "      <td>7452.019058</td>\n",
       "      <td>403.004552</td>\n",
       "      <td>12.391444</td>\n",
       "    </tr>\n",
       "    <tr>\n",
       "      <th>min</th>\n",
       "      <td>17.000000</td>\n",
       "      <td>0.000000</td>\n",
       "      <td>0.000000</td>\n",
       "      <td>1.000000</td>\n",
       "    </tr>\n",
       "    <tr>\n",
       "      <th>25%</th>\n",
       "      <td>28.000000</td>\n",
       "      <td>0.000000</td>\n",
       "      <td>0.000000</td>\n",
       "      <td>40.000000</td>\n",
       "    </tr>\n",
       "    <tr>\n",
       "      <th>50%</th>\n",
       "      <td>37.000000</td>\n",
       "      <td>0.000000</td>\n",
       "      <td>0.000000</td>\n",
       "      <td>40.000000</td>\n",
       "    </tr>\n",
       "    <tr>\n",
       "      <th>75%</th>\n",
       "      <td>48.000000</td>\n",
       "      <td>0.000000</td>\n",
       "      <td>0.000000</td>\n",
       "      <td>45.000000</td>\n",
       "    </tr>\n",
       "    <tr>\n",
       "      <th>max</th>\n",
       "      <td>90.000000</td>\n",
       "      <td>99999.000000</td>\n",
       "      <td>4356.000000</td>\n",
       "      <td>99.000000</td>\n",
       "    </tr>\n",
       "  </tbody>\n",
       "</table>\n",
       "</div>"
      ],
      "text/plain": [
       "                age  capital-gain  capital-loss  hours-per-week\n",
       "count  48842.000000  48842.000000  48842.000000    48842.000000\n",
       "mean      38.643585   1079.067626     87.502314       40.422382\n",
       "std       13.710510   7452.019058    403.004552       12.391444\n",
       "min       17.000000      0.000000      0.000000        1.000000\n",
       "25%       28.000000      0.000000      0.000000       40.000000\n",
       "50%       37.000000      0.000000      0.000000       40.000000\n",
       "75%       48.000000      0.000000      0.000000       45.000000\n",
       "max       90.000000  99999.000000   4356.000000       99.000000"
      ]
     },
     "execution_count": 104,
     "metadata": {},
     "output_type": "execute_result"
    }
   ],
   "source": [
    "# Breve explicación del dataset\n",
    "print('Tamaño:', datos.shape)  # 284.807 registros y 31 variables\n",
    "\n",
    "datos.describe()  #summary de las variables (30 variables explicativas y target: Class)"
   ]
  },
  {
   "cell_type": "markdown",
   "metadata": {},
   "source": [
    "## Agrupación de niveles de las variables categóricas\n",
    "\n",
    "`workclass`"
   ]
  },
  {
   "cell_type": "code",
   "execution_count": 105,
   "metadata": {},
   "outputs": [],
   "source": [
    "cond = [datos[\"workclass\"].isin([\"Self-emp-not-inc\", \"Self-emp-inc\"]),\n",
    "        datos[\"workclass\"].isin([\"State-gov\", \"Local-gov\", \"Federal-gov\"]),\n",
    "        datos[\"workclass\"].isin([\"?\", \"Without-pay\", \"Never-worked\"])]\n",
    "values = [\"Self\", \"State\", \"Other\"]\n",
    "\n",
    "datos[\"workclass\"] = np.select(cond, values, default=datos[\"workclass\"])\n",
    "datos[\"workclass\"] = datos[\"workclass\"].astype(\"category\")"
   ]
  },
  {
   "cell_type": "markdown",
   "metadata": {},
   "source": [
    "`education`"
   ]
  },
  {
   "cell_type": "code",
   "execution_count": 106,
   "metadata": {},
   "outputs": [],
   "source": [
    "cond = [datos[\"education\"].isin([\"Assoc-acdm\", \"Assoc-voc\"]),\n",
    "        datos[\"education\"].isin([\"Preschool\", \"HS-grad\"]),\n",
    "        datos[\"education\"].isin([\"Bachelors\", \"Masters\", \"Doctorate\", \"Some-college\"]),\n",
    "        datos[\"education\"] == \"Prof-school\"]\n",
    "values = [\"Associate\", \"School\", \"BCMD\", \"Prof-school\"]\n",
    "\n",
    "datos[\"education\"] = np.select(cond, values, default=\"Xth\")\n",
    "datos[\"education\"] = datos[\"education\"].astype(\"category\")"
   ]
  },
  {
   "cell_type": "markdown",
   "metadata": {},
   "source": [
    "`marital-status`"
   ]
  },
  {
   "cell_type": "code",
   "execution_count": 107,
   "metadata": {},
   "outputs": [],
   "source": [
    "cond = [datos[\"marital-status\"].isin([\"Separated\", \"Divorced\"]),\n",
    "        datos[\"marital-status\"].isin([\"Married-civ-spouse\", \"Married-spouse-absent\", \"Married-AF-spouse\"]),\n",
    "        datos[\"marital-status\"] == \"Widowed\"]\n",
    "values = [\"Divorced/Separated\", \"Married\", \"Widowed\"]\n",
    "\n",
    "datos[\"marital-status\"] = np.select(cond, values, default=\"Never-married\")\n",
    "datos[\"marital-status\"] = datos[\"marital-status\"].astype(\"category\")"
   ]
  },
  {
   "cell_type": "markdown",
   "metadata": {},
   "source": [
    "`occupation`"
   ]
  },
  {
   "cell_type": "code",
   "execution_count": 108,
   "metadata": {},
   "outputs": [],
   "source": [
    "values = [\"Protective-serv\", \"Craft-repair\", \"Exec-managerial\", \"Adm-clerical\", \"Sales\", \"Machine-op-inspct\"]\n",
    "datos[\"occupation\"] = np.where(datos[\"occupation\"].isin(values), datos[\"occupation\"], \"Other\")\n",
    "datos[\"occupation\"] = datos[\"occupation\"].astype(\"category\")"
   ]
  },
  {
   "cell_type": "code",
   "execution_count": 109,
   "metadata": {
    "tags": []
   },
   "outputs": [
    {
     "data": {
      "text/plain": [
       "['Machine-op-inspct', 'Other', 'Protective-serv', 'Craft-repair', 'Adm-clerical', 'Exec-managerial', 'Sales']\n",
       "Categories (7, object): ['Adm-clerical', 'Craft-repair', 'Exec-managerial', 'Machine-op-inspct', 'Other', 'Protective-serv', 'Sales']"
      ]
     },
     "execution_count": 109,
     "metadata": {},
     "output_type": "execute_result"
    }
   ],
   "source": [
    "datos[\"occupation\"].unique()"
   ]
  },
  {
   "cell_type": "code",
   "execution_count": 170,
   "metadata": {
    "tags": []
   },
   "outputs": [
    {
     "data": {
      "text/html": [
       "<div>\n",
       "<style scoped>\n",
       "    .dataframe tbody tr th:only-of-type {\n",
       "        vertical-align: middle;\n",
       "    }\n",
       "\n",
       "    .dataframe tbody tr th {\n",
       "        vertical-align: top;\n",
       "    }\n",
       "\n",
       "    .dataframe thead th {\n",
       "        text-align: right;\n",
       "    }\n",
       "</style>\n",
       "<table border=\"1\" class=\"dataframe\">\n",
       "  <thead>\n",
       "    <tr style=\"text-align: right;\">\n",
       "      <th></th>\n",
       "      <th>age</th>\n",
       "      <th>workclass</th>\n",
       "      <th>education</th>\n",
       "      <th>marital-status</th>\n",
       "      <th>occupation</th>\n",
       "      <th>relationship</th>\n",
       "      <th>race</th>\n",
       "      <th>gender</th>\n",
       "      <th>capital-gain</th>\n",
       "      <th>capital-loss</th>\n",
       "      <th>hours-per-week</th>\n",
       "      <th>native-country</th>\n",
       "      <th>income</th>\n",
       "    </tr>\n",
       "  </thead>\n",
       "  <tbody>\n",
       "    <tr>\n",
       "      <th>2</th>\n",
       "      <td>28</td>\n",
       "      <td>State</td>\n",
       "      <td>Associate</td>\n",
       "      <td>Married</td>\n",
       "      <td>Protective-serv</td>\n",
       "      <td>Husband</td>\n",
       "      <td>White</td>\n",
       "      <td>Male</td>\n",
       "      <td>0</td>\n",
       "      <td>0</td>\n",
       "      <td>40</td>\n",
       "      <td>United-States</td>\n",
       "      <td>1</td>\n",
       "    </tr>\n",
       "  </tbody>\n",
       "</table>\n",
       "</div>"
      ],
      "text/plain": [
       "   age workclass  education marital-status       occupation relationship  \\\n",
       "2   28     State  Associate        Married  Protective-serv      Husband   \n",
       "\n",
       "    race gender  capital-gain  capital-loss  hours-per-week native-country  \\\n",
       "2  White   Male             0             0              40  United-States   \n",
       "\n",
       "   income  \n",
       "2       1  "
      ]
     },
     "execution_count": 170,
     "metadata": {},
     "output_type": "execute_result"
    }
   ],
   "source": [
    "datos[datos[\"income\"] == 1].head(1)"
   ]
  },
  {
   "cell_type": "markdown",
   "metadata": {
    "id": "alllXDaCie25"
   },
   "source": [
    "## Análisis descriptivo y preprocesado de datos"
   ]
  },
  {
   "cell_type": "markdown",
   "metadata": {},
   "source": [
    "`Distribución del Target`"
   ]
  },
  {
   "cell_type": "code",
   "execution_count": 111,
   "metadata": {
    "colab": {
     "base_uri": "https://localhost:8080/",
     "height": 597
    },
    "id": "RKc7bA4Nifqs",
    "outputId": "1d47f926-51bb-471b-b464-519984bccae6"
   },
   "outputs": [
    {
     "data": {
      "image/png": "[encoded data removed]",
      "text/plain": [
       "<Figure size 1200x400 with 1 Axes>"
      ]
     },
     "metadata": {},
     "output_type": "display_data"
    }
   ],
   "source": [
    "plt.figure(figsize=(12, 4)) # tamaño del gráfico\n",
    "sns.countplot(x='income', data=datos, palette='Set2')\n",
    "plt.title('Grupos de empleados según el salario', fontsize=16)\n",
    "plt.show()\n",
    "\n",
    "datos[\"income\"].value_counts(normalize=True)\n",
    "\n",
    "datos[\"income\"] = np.where(datos[\"income\"] == \">50K\", 1, 0)"
   ]
  },
  {
   "cell_type": "markdown",
   "metadata": {},
   "source": [
    "`Correlación variables numéricas`"
   ]
  },
  {
   "cell_type": "code",
   "execution_count": 112,
   "metadata": {},
   "outputs": [
    {
     "data": {
      "image/png": "[encoded data removed]",
      "text/plain": [
       "<Figure size 1200x400 with 2 Axes>"
      ]
     },
     "metadata": {},
     "output_type": "display_data"
    }
   ],
   "source": [
    "# nombre de las columnas de interés\n",
    "columnas_corr = list(datos.select_dtypes(exclude=['category', 'object']).columns)\n",
    "corr_list = columnas_corr.copy()\n",
    "corr_list.remove(\"income\")\n",
    "\n",
    "# Análisis de correlación de las variables explicativas\n",
    "matriz_cor=datos[corr_list].corr('pearson')  #correlación de pearson\n",
    "\n",
    "# como cor(x,x)=1 y cor(x,y)=cor(y,x) se puede disponer solo de la diagonal inferior.\n",
    "# La siguiente función elimina la parte superior de la matriz de correlaciones\n",
    "mask = np.zeros(matriz_cor.shape, dtype=bool)\n",
    "mask[np.triu_indices(len(mask))] = True\n",
    "\n",
    "plt.figure(figsize=(12, 4)) # tamaño del gráfico\n",
    "\n",
    "sns.heatmap(matriz_cor, annot = True, vmin = -1, vmax = 1, cmap = 'Set2', mask=mask)\n",
    "# cmap para elegir la gama de colores y vmin y vmax identificar todo el espectro de valores de la correlación de pearson [-1,1]\n",
    "plt.title('Correlación de Pearson - Datos de entrada', fontsize=12)\n",
    "plt.show()"
   ]
  },
  {
   "cell_type": "markdown",
   "metadata": {},
   "source": [
    "Vemos que no hay correlación lineal entre las variables explicativas"
   ]
  },
  {
   "cell_type": "markdown",
   "metadata": {},
   "source": [
    "## Definición de la muestra: entrenamiento y validación"
   ]
  },
  {
   "cell_type": "code",
   "execution_count": 144,
   "metadata": {
    "id": "4LHntouEin0I"
   },
   "outputs": [
    {
     "name": "stdout",
     "output_type": "stream",
     "text": [
      "Tamaño train: (36631, 12)\n",
      "Tamaño validación: (12211, 12)\n"
     ]
    }
   ],
   "source": [
    "# Partición de la muestra\n",
    "TEST_SIZE = 0.25 #muestra para el test\n",
    "RANDOM_SEED = 123 \n",
    "X_train, X_test, y_train, y_test = train_test_split(datos.drop(columns=[\"income\"]),\n",
    "                                                    datos[\"income\"],\n",
    "                                                    test_size=TEST_SIZE,\n",
    "                                                    random_state=RANDOM_SEED,\n",
    "                                                    stratify=datos[\"income\"]) # división estratificada\n",
    "\n",
    "print(f\"Tamaño train: {X_train.shape}\")\n",
    "print(f\"Tamaño validación: {X_test.shape}\")"
   ]
  },
  {
   "cell_type": "markdown",
   "metadata": {},
   "source": [
    "Se convierten a variables dummy las no numéricas"
   ]
  },
  {
   "cell_type": "code",
   "execution_count": 136,
   "metadata": {},
   "outputs": [],
   "source": [
    "category_columns = list(datos.select_dtypes(include=['category', 'object']).columns)\n",
    "\n",
    "X_train_dummy = pd.get_dummies(X_train[category_columns], drop_first=True, dtype=float)\n",
    "X_test_dummy = pd.get_dummies(X_test[category_columns], drop_first=True, dtype=float)"
   ]
  },
  {
   "cell_type": "markdown",
   "metadata": {},
   "source": [
    "Obtenemos las variables numéricas y concatenamos:"
   ]
  },
  {
   "cell_type": "code",
   "execution_count": 138,
   "metadata": {},
   "outputs": [],
   "source": [
    "X_train_num = X_train[corr_list]\n",
    "X_test_num = X_test[corr_list]\n",
    "\n",
    "X_train = pd.concat([X_train_num, X_train_dummy], axis=1) # se añaden a nivel registro\n",
    "X_test = pd.concat([X_test_num, X_test_dummy], axis=1)"
   ]
  },
  {
   "cell_type": "markdown",
   "metadata": {},
   "source": [
    "Al trabajar con variables categóricas puede ser que algún nivel de los datos de entrenamiento no esté en nuestros datos de validación."
   ]
  },
  {
   "cell_type": "code",
   "execution_count": 139,
   "metadata": {},
   "outputs": [
    {
     "data": {
      "text/plain": [
       "False"
      ]
     },
     "execution_count": 139,
     "metadata": {},
     "output_type": "execute_result"
    }
   ],
   "source": [
    "True if len(X_train.columns) == len(X_test.columns) else False"
   ]
  },
  {
   "cell_type": "markdown",
   "metadata": {},
   "source": [
    "Puede verse que existe tal discrepancia. Se analizan las variables que no existen para rellenarlas a cero."
   ]
  },
  {
   "cell_type": "code",
   "execution_count": 140,
   "metadata": {},
   "outputs": [
    {
     "data": {
      "text/plain": [
       "['native-country_Holand-Netherlands']"
      ]
     },
     "execution_count": 140,
     "metadata": {},
     "output_type": "execute_result"
    }
   ],
   "source": [
    "add_col_test = [col for col in X_train.columns if col not in X_test.columns]\n",
    "add_col_test"
   ]
  },
  {
   "cell_type": "code",
   "execution_count": 141,
   "metadata": {},
   "outputs": [],
   "source": [
    "for col in add_col_test:\n",
    "    X_test[col] = 0 # se incluye con valor a cero\n",
    "\n",
    "X_test = X_test[X_train.columns] # la muestra de test con el mismo orden que la muestra de entrenamiento"
   ]
  },
  {
   "cell_type": "code",
   "execution_count": 142,
   "metadata": {},
   "outputs": [
    {
     "data": {
      "text/plain": [
       "True"
      ]
     },
     "execution_count": 142,
     "metadata": {},
     "output_type": "execute_result"
    }
   ],
   "source": [
    "True if len(X_train.columns) == len(X_test.columns) else False"
   ]
  },
  {
   "cell_type": "code",
   "execution_count": 167,
   "metadata": {
    "tags": []
   },
   "outputs": [
    {
     "data": {
      "text/plain": [
       "99"
      ]
     },
     "execution_count": 167,
     "metadata": {},
     "output_type": "execute_result"
    }
   ],
   "source": [
    "datos[\"hours-per-week\"].max()"
   ]
  },
  {
   "cell_type": "markdown",
   "metadata": {},
   "source": [
    "Una vez tenemos los datos de entrada adecuadamente formulados, se normalizan los datos:"
   ]
  },
  {
   "cell_type": "code",
   "execution_count": 121,
   "metadata": {
    "id": "XO-uLNE_iqIA"
   },
   "outputs": [],
   "source": [
    "# Normalización muestra entrenamiento y test\n",
    "\n",
    "# conversión a vector numpy la serie de pandas\n",
    "y_train=np.array(y_train)\n",
    "y_test=np.array(y_test)\n",
    "\n",
    "# Los datos son normalizados (min=0, máx=1) para un buen entendimiento de la red neuronal\n",
    "norm = MinMaxScaler()\n",
    "X_train = norm.fit_transform(X_train)\n",
    "X_test = norm.transform(X_test)"
   ]
  },
  {
   "cell_type": "code",
   "execution_count": 122,
   "metadata": {
    "colab": {
     "base_uri": "https://localhost:8080/",
     "height": 50
    },
    "id": "L2kyopSdrslD",
    "outputId": "67fa01c1-7bc0-4ffe-96b6-e30387144b40"
   },
   "outputs": [
    {
     "name": "stdout",
     "output_type": "stream",
     "text": [
      "Tamaño datos (train): (36631, 71)\n",
      "Tamaño datos (test): (12211, 71)\n"
     ]
    }
   ],
   "source": [
    "# detalle del tamaño de los datos de entrada\n",
    "print('Tamaño datos (train):', X_train.shape)\n",
    "print('Tamaño datos (test):', X_test.shape)"
   ]
  },
  {
   "cell_type": "markdown",
   "metadata": {},
   "source": [
    "## Modelización usando redes convolucionales"
   ]
  },
  {
   "cell_type": "code",
   "execution_count": 123,
   "metadata": {
    "colab": {
     "base_uri": "https://localhost:8080/",
     "height": 34
    },
    "id": "e1wgkqdqrWYY",
    "outputId": "ff618d6f-ae9d-4c84-be78-c53e0957a477"
   },
   "outputs": [
    {
     "name": "stdout",
     "output_type": "stream",
     "text": [
      "Tamaño datos entrada a la red: (36631, 71, 1)\n"
     ]
    }
   ],
   "source": [
    "# Cambio de tamaño de los datos de entrada -> uso de la función reshape\n",
    "# En este caso, en vez de aplanar los datos, se expanden (se añade una nueva dimensión -> canal)\n",
    "\n",
    "# Nuevo datamaño del dataset (incluímos una versió )\n",
    "X_train = X_train.reshape(X_train.shape[0], X_train.shape[1], 1)\n",
    "X_test = X_test.reshape(X_test.shape[0], X_test.shape[1], 1)\n",
    "\n",
    "print('Tamaño datos entrada a la red:', X_train.shape) # ejemplo"
   ]
  },
  {
   "cell_type": "markdown",
   "metadata": {
    "id": "4F7ZZPTyizKC"
   },
   "source": [
    "### Arquitectura de la red convolucional (2 capas convolucionales + 2 capas densas)"
   ]
  },
  {
   "cell_type": "code",
   "execution_count": 124,
   "metadata": {
    "id": "JD1PoXVhiswe"
   },
   "outputs": [],
   "source": [
    "#  Creación de la arquitectura\n",
    "\n",
    "model = Sequential()\n",
    "\n",
    "# 1º capa de convolución\n",
    "model.add(Conv1D(filters=32,  # número de filtros\n",
    "                 kernel_size=2,\n",
    "                 strides=1,\n",
    "                 activation='relu', # función de activación rectificadro unitario\n",
    "                 input_shape=X_train[0].shape))  # 30 variables + la profundidad\n",
    "\n",
    "model.add(BatchNormalization()) # normalización por bloques\n",
    "model.add(MaxPooling1D()) # capa de maxpooling\n",
    "\n",
    "# 2º capa de convolución (doble de filtros que la inicial)\n",
    "model.add(Conv1D(filters=64,\n",
    "                 kernel_size=2,\n",
    "                 strides=1,\n",
    "                 activation='relu'))\n",
    "\n",
    "model.add(BatchNormalization())\n",
    "model.add(Dropout(0.3)) # capa de dropout\n",
    "model.add(MaxPooling1D()) # capa de maxpooling\n",
    "\n",
    "model.add(Flatten()) # aplanamiento de los datos para pasar a la red neuronal densamente conectada\n",
    "model.add(Dense(64, activation='relu'))\n",
    "model.add(Dropout(0.3)) # capa de dropout - para evitar sobreajuste del modelo\n",
    "model.add(Dense(1, activation='sigmoid')) # función de activación de la capa de salida: función sigmoide (target binario)"
   ]
  },
  {
   "cell_type": "markdown",
   "metadata": {},
   "source": [
    "Una vez definida la arquitectura podemos ver el número de parámetros por cada capa de la red neuronal"
   ]
  },
  {
   "cell_type": "code",
   "execution_count": 125,
   "metadata": {
    "colab": {
     "base_uri": "https://localhost:8080/",
     "height": 521
    },
    "id": "Rr1FwQiji_FA",
    "outputId": "df91ea9c-b04e-4066-9dae-d47285a9e1be"
   },
   "outputs": [
    {
     "name": "stdout",
     "output_type": "stream",
     "text": [
      "Model: \"sequential_2\"\n",
      "_________________________________________________________________\n",
      " Layer (type)                Output Shape              Param #   \n",
      "=================================================================\n",
      " conv1d_4 (Conv1D)           (None, 70, 32)            96        \n",
      "                                                                 \n",
      " batch_normalization_4 (Bat  (None, 70, 32)            128       \n",
      " chNormalization)                                                \n",
      "                                                                 \n",
      " max_pooling1d_4 (MaxPoolin  (None, 35, 32)            0         \n",
      " g1D)                                                            \n",
      "                                                                 \n",
      " conv1d_5 (Conv1D)           (None, 34, 64)            4160      \n",
      "                                                                 \n",
      " batch_normalization_5 (Bat  (None, 34, 64)            256       \n",
      " chNormalization)                                                \n",
      "                                                                 \n",
      " dropout_4 (Dropout)         (None, 34, 64)            0         \n",
      "                                                                 \n",
      " max_pooling1d_5 (MaxPoolin  (None, 17, 64)            0         \n",
      " g1D)                                                            \n",
      "                                                                 \n",
      " flatten_2 (Flatten)         (None, 1088)              0         \n",
      "                                                                 \n",
      " dense_4 (Dense)             (None, 64)                69696     \n",
      "                                                                 \n",
      " dropout_5 (Dropout)         (None, 64)                0         \n",
      "                                                                 \n",
      " dense_5 (Dense)             (None, 1)                 65        \n",
      "                                                                 \n",
      "=================================================================\n",
      "Total params: 74401 (290.63 KB)\n",
      "Trainable params: 74209 (289.88 KB)\n",
      "Non-trainable params: 192 (768.00 Byte)\n",
      "_________________________________________________________________\n"
     ]
    }
   ],
   "source": [
    "model.summary() # Summary de la arquitectura creada"
   ]
  },
  {
   "cell_type": "markdown",
   "metadata": {
    "id": "5j9faEnDhz2i"
   },
   "source": [
    "Se realiza el proceso de aprendizaje de la red"
   ]
  },
  {
   "cell_type": "code",
   "execution_count": 126,
   "metadata": {
    "colab": {
     "base_uri": "https://localhost:8080/",
     "height": 689
    },
    "id": "umm9IfkzjiH2",
    "outputId": "32b82c5b-3ebe-4321-8a30-e87fcbf52a06"
   },
   "outputs": [
    {
     "name": "stdout",
     "output_type": "stream",
     "text": [
      "Epoch 1/30\n",
      "973/973 [==============================] - 11s 8ms/step - loss: 0.4054 - accuracy: 0.8070 - val_loss: 0.3509 - val_accuracy: 0.8278\n",
      "Epoch 2/30\n",
      "973/973 [==============================] - 7s 7ms/step - loss: 0.3729 - accuracy: 0.8246 - val_loss: 0.3385 - val_accuracy: 0.8377\n",
      "Epoch 3/30\n",
      "973/973 [==============================] - 6s 6ms/step - loss: 0.3621 - accuracy: 0.8294 - val_loss: 0.3324 - val_accuracy: 0.8409\n",
      "Epoch 4/30\n",
      "973/973 [==============================] - 6s 6ms/step - loss: 0.3569 - accuracy: 0.8302 - val_loss: 0.3298 - val_accuracy: 0.8415\n",
      "Epoch 5/30\n",
      "973/973 [==============================] - 6s 7ms/step - loss: 0.3526 - accuracy: 0.8330 - val_loss: 0.3505 - val_accuracy: 0.8280\n",
      "Epoch 6/30\n",
      "973/973 [==============================] - 8s 8ms/step - loss: 0.3455 - accuracy: 0.8360 - val_loss: 0.3352 - val_accuracy: 0.8426\n",
      "Epoch 7/30\n",
      "973/973 [==============================] - 6s 6ms/step - loss: 0.3425 - accuracy: 0.8367 - val_loss: 0.3205 - val_accuracy: 0.8479\n",
      "Epoch 8/30\n",
      "973/973 [==============================] - 6s 6ms/step - loss: 0.3417 - accuracy: 0.8379 - val_loss: 0.3246 - val_accuracy: 0.8479\n",
      "Epoch 9/30\n",
      "973/973 [==============================] - 6s 6ms/step - loss: 0.3397 - accuracy: 0.8385 - val_loss: 0.3192 - val_accuracy: 0.8462\n",
      "Epoch 10/30\n",
      "973/973 [==============================] - 6s 6ms/step - loss: 0.3381 - accuracy: 0.8399 - val_loss: 0.3259 - val_accuracy: 0.8446\n",
      "Epoch 11/30\n",
      "973/973 [==============================] - 7s 7ms/step - loss: 0.3366 - accuracy: 0.8397 - val_loss: 0.3159 - val_accuracy: 0.8515\n",
      "Epoch 12/30\n",
      "973/973 [==============================] - 6s 6ms/step - loss: 0.3332 - accuracy: 0.8444 - val_loss: 0.3246 - val_accuracy: 0.8473\n",
      "Epoch 13/30\n",
      "973/973 [==============================] - 6s 7ms/step - loss: 0.3332 - accuracy: 0.8423 - val_loss: 0.3252 - val_accuracy: 0.8466\n",
      "Epoch 14/30\n",
      "973/973 [==============================] - 6s 7ms/step - loss: 0.3332 - accuracy: 0.8415 - val_loss: 0.3295 - val_accuracy: 0.8455\n",
      "Epoch 15/30\n",
      "973/973 [==============================] - 6s 6ms/step - loss: 0.3337 - accuracy: 0.8432 - val_loss: 0.3161 - val_accuracy: 0.8484\n",
      "Epoch 16/30\n",
      "973/973 [==============================] - 6s 6ms/step - loss: 0.3322 - accuracy: 0.8439 - val_loss: 0.3218 - val_accuracy: 0.8449\n",
      "Epoch 17/30\n",
      "973/973 [==============================] - 6s 6ms/step - loss: 0.3308 - accuracy: 0.8428 - val_loss: 0.3155 - val_accuracy: 0.8471\n",
      "Epoch 18/30\n",
      "973/973 [==============================] - 6s 6ms/step - loss: 0.3341 - accuracy: 0.8437 - val_loss: 0.3166 - val_accuracy: 0.8495\n",
      "Epoch 19/30\n",
      "973/973 [==============================] - 6s 7ms/step - loss: 0.3297 - accuracy: 0.8445 - val_loss: 0.3150 - val_accuracy: 0.8451\n",
      "Epoch 20/30\n",
      "973/973 [==============================] - 6s 6ms/step - loss: 0.3302 - accuracy: 0.8431 - val_loss: 0.3148 - val_accuracy: 0.8490\n",
      "Epoch 21/30\n",
      "973/973 [==============================] - 6s 6ms/step - loss: 0.3302 - accuracy: 0.8438 - val_loss: 0.3189 - val_accuracy: 0.8455\n",
      "Epoch 22/30\n",
      "973/973 [==============================] - 6s 6ms/step - loss: 0.3282 - accuracy: 0.8428 - val_loss: 0.3188 - val_accuracy: 0.8462\n",
      "Epoch 23/30\n",
      "973/973 [==============================] - 6s 6ms/step - loss: 0.3292 - accuracy: 0.8438 - val_loss: 0.3219 - val_accuracy: 0.8479\n",
      "Epoch 24/30\n",
      "973/973 [==============================] - 6s 6ms/step - loss: 0.3274 - accuracy: 0.8444 - val_loss: 0.3172 - val_accuracy: 0.8486\n",
      "Epoch 25/30\n",
      "973/973 [==============================] - 6s 6ms/step - loss: 0.3267 - accuracy: 0.8457 - val_loss: 0.3411 - val_accuracy: 0.8468\n",
      "Epoch 26/30\n",
      "973/973 [==============================] - 7s 7ms/step - loss: 0.3286 - accuracy: 0.8433 - val_loss: 0.3255 - val_accuracy: 0.8490\n",
      "Epoch 27/30\n",
      "973/973 [==============================] - 6s 6ms/step - loss: 0.3281 - accuracy: 0.8429 - val_loss: 0.3239 - val_accuracy: 0.8475\n",
      "Epoch 28/30\n",
      "973/973 [==============================] - 6s 6ms/step - loss: 0.3284 - accuracy: 0.8445 - val_loss: 0.3148 - val_accuracy: 0.8459\n",
      "Epoch 29/30\n",
      "973/973 [==============================] - 7s 7ms/step - loss: 0.3269 - accuracy: 0.8439 - val_loss: 0.3157 - val_accuracy: 0.8513\n",
      "Epoch 30/30\n",
      "973/973 [==============================] - 7s 7ms/step - loss: 0.3248 - accuracy: 0.8463 - val_loss: 0.3344 - val_accuracy: 0.8435\n"
     ]
    }
   ],
   "source": [
    "# Compilaciónd del modelo\n",
    "\n",
    "lr = 0.001 # tasa de aprendizaje\n",
    "\n",
    "# Función de pérdida: binary crossentropy (problema de clasificación binaria)\n",
    "# Optimizador para calcular los pesos de la red (ADAM - proceso del gradiente descendiente más utilizado en deep learning)\n",
    "model.compile(optimizer=Adam(learning_rate=lr), loss='binary_crossentropy', metrics=['accuracy'])\n",
    "\n",
    "# Entrenamiento del modelo\n",
    "epochs = 30 # número de veces que se entrena el modelo\n",
    "muestra_val = 0.15 # parte de la muestra se divide para tener un proceso de validación en el entrenamiento\n",
    "history=model.fit(X_train,\n",
    "                  y_train,\n",
    "                  epochs=epochs,\n",
    "                  validation_split=muestra_val,\n",
    "                  verbose=1)"
   ]
  },
  {
   "cell_type": "code",
   "execution_count": 127,
   "metadata": {
    "colab": {
     "base_uri": "https://localhost:8080/",
     "height": 417
    },
    "id": "K0Nx9CIyjYXm",
    "outputId": "e75d9f6b-1b28-4575-e579-63642bfd348f"
   },
   "outputs": [
    {
     "data": {
      "image/png": "[encoded data removed]",
      "text/plain": [
       "<Figure size 1000x600 with 2 Axes>"
      ]
     },
     "metadata": {},
     "output_type": "display_data"
    }
   ],
   "source": [
    "# Visualización del proceso de validación\n",
    "df_train=pd.DataFrame(history.history)\n",
    "df_train['epochs']=history.epoch\n",
    "\n",
    "fig, (ax1, ax2) = plt.subplots(1, 2, figsize=(10, 6))\n",
    "\n",
    "fig.suptitle('Proceso de Entrenamiento', fontsize=12)\n",
    "\n",
    "ax1.plot(df_train['epochs'], df_train['accuracy'], label='train_acc')\n",
    "ax1.plot(df_train['epochs'], df_train['val_accuracy'], label='val_acc')\n",
    "\n",
    "ax2.plot(df_train['epochs'], df_train['loss'], label='train_loss')\n",
    "ax2.plot(df_train['epochs'], df_train['val_loss'], label='val_loss')\n",
    "\n",
    "ax1.legend(loc='best')\n",
    "ax2.legend(loc='best')\n",
    "plt.show()"
   ]
  },
  {
   "cell_type": "code",
   "execution_count": 151,
   "metadata": {
    "tags": []
   },
   "outputs": [
    {
     "data": {
      "text/plain": [
       "array(['age', 'capital-gain', 'capital-loss', 'hours-per-week',\n",
       "       'workclass_Private', 'workclass_Self', 'workclass_State',\n",
       "       'education_BCMD', 'education_Prof-school', 'education_School',\n",
       "       'education_Xth', 'marital-status_Married',\n",
       "       'marital-status_Never-married', 'marital-status_Widowed',\n",
       "       'occupation_Craft-repair', 'occupation_Exec-managerial',\n",
       "       'occupation_Machine-op-inspct', 'occupation_Other',\n",
       "       'occupation_Protective-serv', 'occupation_Sales',\n",
       "       'relationship_Not-in-family', 'relationship_Other-relative',\n",
       "       'relationship_Own-child', 'relationship_Unmarried',\n",
       "       'relationship_Wife', 'race_Asian-Pac-Islander', 'race_Black',\n",
       "       'race_Other', 'race_White', 'gender_Male',\n",
       "       'native-country_Cambodia', 'native-country_Canada',\n",
       "       'native-country_China', 'native-country_Columbia',\n",
       "       'native-country_Cuba', 'native-country_Dominican-Republic',\n",
       "       'native-country_Ecuador', 'native-country_El-Salvador',\n",
       "       'native-country_England', 'native-country_France',\n",
       "       'native-country_Germany', 'native-country_Greece',\n",
       "       'native-country_Guatemala', 'native-country_Haiti',\n",
       "       'native-country_Holand-Netherlands', 'native-country_Honduras',\n",
       "       'native-country_Hong', 'native-country_Hungary',\n",
       "       'native-country_India', 'native-country_Iran',\n",
       "       'native-country_Ireland', 'native-country_Italy',\n",
       "       'native-country_Jamaica', 'native-country_Japan',\n",
       "       'native-country_Laos', 'native-country_Mexico',\n",
       "       'native-country_Nicaragua',\n",
       "       'native-country_Outlying-US(Guam-USVI-etc)', 'native-country_Peru',\n",
       "       'native-country_Philippines', 'native-country_Poland',\n",
       "       'native-country_Portugal', 'native-country_Puerto-Rico',\n",
       "       'native-country_Scotland', 'native-country_South',\n",
       "       'native-country_Taiwan', 'native-country_Thailand',\n",
       "       'native-country_Trinadad&Tobago', 'native-country_United-States',\n",
       "       'native-country_Vietnam', 'native-country_Yugoslavia'],\n",
       "      dtype=object)"
      ]
     },
     "execution_count": 151,
     "metadata": {},
     "output_type": "execute_result"
    }
   ],
   "source": [
    "norm.feature_names_in_"
   ]
  },
  {
   "cell_type": "markdown",
   "metadata": {},
   "source": [
    "## Predicción del modelo sobre la muestra de test"
   ]
  },
  {
   "cell_type": "code",
   "execution_count": 128,
   "metadata": {
    "colab": {
     "base_uri": "https://localhost:8080/",
     "height": 320
    },
    "id": "rhKhDDwBtB-M",
    "outputId": "60738b1e-4d10-4347-ddd3-1ee5a334d285"
   },
   "outputs": [
    {
     "name": "stdout",
     "output_type": "stream",
     "text": [
      "382/382 [==============================] - 3s 1ms/step\n"
     ]
    }
   ],
   "source": [
    "# Bondinput_namesad de ajuste del modelo - Muestra Test\n",
    "\n",
    "# Predicciones\n",
    "y_pred_test = model.predict(X_test) # en términos de probabilidad"
   ]
  },
  {
   "cell_type": "markdown",
   "metadata": {},
   "source": [
    "Como la muestra está ligeramente desbalanceada, asumimos una proporción similar a la de los datos. Así, se indentificará como evento positivo aquella predicción con probabilidad superior al 30%"
   ]
  },
  {
   "cell_type": "code",
   "execution_count": 129,
   "metadata": {},
   "outputs": [],
   "source": [
    "y_pred_class_test = np.where(y_pred_test >= 0.30, 1, 0) # en término de clase"
   ]
  },
  {
   "cell_type": "markdown",
   "metadata": {},
   "source": [
    "Así, la bondad de ajuste del modelo es: "
   ]
  },
  {
   "cell_type": "code",
   "execution_count": 130,
   "metadata": {},
   "outputs": [
    {
     "data": {
      "image/png": "[encoded data removed]",
      "text/plain": [
       "<Figure size 640x480 with 2 Axes>"
      ]
     },
     "metadata": {},
     "output_type": "display_data"
    }
   ],
   "source": [
    "sns.heatmap(confusion_matrix(y_test, y_pred_class_test), annot = True, cmap = plt.cm.Reds, fmt='.0f') # matriz de confusión\n",
    "plt.show()"
   ]
  },
  {
   "cell_type": "code",
   "execution_count": 131,
   "metadata": {},
   "outputs": [
    {
     "name": "stdout",
     "output_type": "stream",
     "text": [
      "Precision: 0.5225\n",
      "Recall: 0.8997\n",
      "f1-score: 0.6611\n"
     ]
    }
   ],
   "source": [
    "print(f\"Precision: {round(precision_score(y_test, y_pred_class_test), 4)}\")\n",
    "print(f\"Recall: {round(recall_score(y_test, y_pred_class_test), 4)}\")\n",
    "print(f\"f1-score: {round(f1_score(y_test, y_pred_class_test), 4)}\")"
   ]
  },
  {
   "cell_type": "markdown",
   "metadata": {
    "tags": []
   },
   "source": [
    "## Guardar los modelos y el proceso"
   ]
  },
  {
   "cell_type": "code",
   "execution_count": null,
   "metadata": {},
   "outputs": [
    {
     "data": {
      "text/plain": [
       "['../model/nn_model.joblib']"
      ]
     },
     "execution_count": 132,
     "metadata": {},
     "output_type": "execute_result"
    }
   ],
   "source": [
    "import joblib\n",
    "\n",
    "joblib.dump(norm, '../model/normalization.joblib')\n",
    "joblib.dump(model, '../model/nn_model.joblib')"
   ]
  }
 ],
 "metadata": {
  "accelerator": "GPU",
  "colab": {
   "provenance": []
  },
  "kernelspec": {
   "display_name": "Python 3 (ipykernel)",
   "language": "python",
   "name": "python3"
  },
  "language_info": {
   "codemirror_mode": {
    "name": "ipython",
    "version": 3
   },
   "file_extension": ".py",
   "mimetype": "text/x-python",
   "name": "python",
   "nbconvert_exporter": "python",
   "pygments_lexer": "ipython3",
   "version": "3.11.3"
  }
 },
 "nbformat": 4,
 "nbformat_minor": 4
}
